{
 "cells": [
  {
   "cell_type": "code",
   "execution_count": null,
   "metadata": {},
   "outputs": [],
   "source": [
    "import pandas as pd\n",
    "import numpy as np\n",
    "from datetime import date\n",
    "from tqdm.auto import tqdm\n",
    "from zipfile import ZipFile\n",
    "\n",
    "import os\n",
    "import re\n",
    "import matplotlib.pyplot as plt\n",
    "from matplotlib.lines import Line2D\n",
    "\n",
    "import sys\n",
    "from pathlib import Path\n",
    "cwd = os.getcwd()\n",
    "parent = str(Path(cwd).parents[0])\n",
    "sys.path.append(parent)"
   ]
  },
  {
   "cell_type": "code",
   "execution_count": null,
   "metadata": {},
   "outputs": [],
   "source": [
    "%matplotlib inline\n",
    "%load_ext autoreload\n",
    "%autoreload 2"
   ]
  },
  {
   "cell_type": "code",
   "execution_count": null,
   "metadata": {},
   "outputs": [],
   "source": [
    "try:\n",
    "    df = pd.read_csv(parent + '/data/applicable_trials_2021-06-15.csv')\n",
    "    print(f'Existing data loaded sucessfully! {len(df)} trials in this dataset.')\n",
    "    \n",
    "except FileNotFoundError:\n",
    "    old_fda = parent + '/data/fdaaa_regulatory_snapshot.csv'\n",
    "    \n",
    "    #This data is the full ClinicalTrials.gov dataset for 14 May 2021.\n",
    "    #Due to size, this is not in our GitHub repo, but stored on Dropbox \n",
    "    #You should also be able to download the raw data using this URL\n",
    "    path = 'https://www.dropbox.com/s/ovzhmefl5o7pip1/clinicaltrials_raw_clincialtrials_json_2021-06-15.csv.zip?dl=1'\n",
    "\n",
    "    from lib.data_functions import fda_reg, get_data\n",
    "\n",
    "    fda_reg_dict = fda_reg(old_fda)\n",
    "    lines = get_data(path, '2021-06-15')\n",
    "\n",
    "    #headers is just the list of header names to save space here\n",
    "    from lib.final_df import make_row, make_dataframe, headers\n",
    "\n",
    "    #Just pACTs/ACTs\n",
    "    df = make_dataframe(tqdm(lines), fda_reg_dict, headers, act_filter=True, scrape_date = date(2021,5,14))\n",
    "    \n",
    "    #We won't need this anymore so deleting to save some memory\n",
    "    del lines\n",
    "    \n",
    "    #Uncomment this to save as a csv as appropriate\n",
    "    df.to_csv(parent + '/data/applicable_trials_2021-06-14.csv', index=False)"
   ]
  },
  {
   "cell_type": "code",
   "execution_count": null,
   "metadata": {},
   "outputs": [],
   "source": [
    "df.columns"
   ]
  },
  {
   "cell_type": "code",
   "execution_count": null,
   "metadata": {},
   "outputs": [],
   "source": [
    "#Making sure date columns are dates\n",
    "date_cols = ['certificate_date', \"certificate_date_qc\", \"certificate_posted_date\", 'primary_completion_date', 'completion_date', \n",
    "             'available_completion_date', 'due_date', 'last_updated_date', 'last_verified_date', 'results_first_submitted_date', \n",
    "             'results_submitted_date_qc', 'results_first_posted_date',  'first_results_submission_any', \n",
    "             'study_first_submitted_date', 'study_submitted_date_qc', 'study_first_posted_date', 'start_date']\n",
    "\n",
    "for col in date_cols:\n",
    "    df[col] = pd.to_datetime(df[col])"
   ]
  },
  {
   "cell_type": "code",
   "execution_count": null,
   "metadata": {},
   "outputs": [],
   "source": [
    "def get_weeks(df, start_dt, end_dt):\n",
    "    results = df[(df.first_results_submission_any > pd.to_datetime(start_dt)) & \n",
    "                  (df.first_results_submission_any <= pd.to_datetime(end_dt))][['nct_id', \n",
    "                                                                                      'first_results_submission_any']]\n",
    "    \n",
    "    grouped = results.groupby('first_results_submission_any', as_index=False).count()\n",
    "    weeks = grouped.resample('W-TUE', on='first_results_submission_any').sum().reset_index()\n",
    "    weeks.index = range(1,len(weeks)+1)\n",
    "    return weeks"
   ]
  },
  {
   "cell_type": "code",
   "execution_count": null,
   "metadata": {},
   "outputs": [],
   "source": [
    "#This gets us the trial IDs for the post-letter trials"
   ]
  },
  {
   "cell_type": "code",
   "execution_count": null,
   "metadata": {},
   "outputs": [],
   "source": [
    "results = df[(df.first_results_submission_any > pd.to_datetime('2021-04-27')) & \n",
    "                  (df.first_results_submission_any <= pd.to_datetime('2021-06-08'))][['nct_id', \n",
    "                                                                                      'first_results_submission_any']]"
   ]
  },
  {
   "cell_type": "code",
   "execution_count": null,
   "metadata": {},
   "outputs": [],
   "source": [
    "reporting_2021 = results.nct_id.to_list()"
   ]
  },
  {
   "cell_type": "code",
   "execution_count": null,
   "metadata": {},
   "outputs": [],
   "source": [
    "len(reporting_2021)"
   ]
  },
  {
   "cell_type": "code",
   "execution_count": null,
   "metadata": {},
   "outputs": [],
   "source": [
    "#Setting the first 23 weeks of the year for 2019-2021. The date in the \"first_results_submission_any\" column\n",
    "#is the last day included in the count for that week.\n",
    "#The FDA letter was announced on Wednesday the 28th so we run our weeks from Wed-Tues in order to capture the week\n",
    "#Starting from the day the letter was announced."
   ]
  },
  {
   "cell_type": "code",
   "execution_count": null,
   "metadata": {},
   "outputs": [],
   "source": [
    "weeks_2021 = get_weeks(df, '2020-12-29', '2021-06-08')\n",
    "weeks_2020 = get_weeks(df, '2019-12-31', '2020-06-09')\n",
    "weeks_2019 = get_weeks(df, '2019-01-01', '2019-06-11')"
   ]
  },
  {
   "cell_type": "code",
   "execution_count": null,
   "metadata": {},
   "outputs": [],
   "source": [
    "#Checking what the highest week ever was since the Final Rule came into effect"
   ]
  },
  {
   "cell_type": "code",
   "execution_count": null,
   "metadata": {},
   "outputs": [],
   "source": [
    "all_weeks = get_weeks(df, '2017-01-17', '2021-06-08')\n",
    "all_weeks.nct_id.max()"
   ]
  },
  {
   "cell_type": "code",
   "execution_count": null,
   "metadata": {},
   "outputs": [],
   "source": [
    "#Checking how many weeks exceeded 70 trials since the Final Rule"
   ]
  },
  {
   "cell_type": "code",
   "execution_count": null,
   "metadata": {},
   "outputs": [],
   "source": [
    "all_weeks[all_weeks.nct_id >= 70]"
   ]
  },
  {
   "cell_type": "code",
   "execution_count": null,
   "metadata": {},
   "outputs": [],
   "source": [
    "#Looking at just 2021\n",
    "weeks_2021"
   ]
  },
  {
   "cell_type": "code",
   "execution_count": null,
   "metadata": {},
   "outputs": [],
   "source": [
    "#The total reported trials in the matching 6 weeks to the post-letter 6 weeks"
   ]
  },
  {
   "cell_type": "code",
   "execution_count": null,
   "metadata": {},
   "outputs": [],
   "source": [
    "weeks_2019.loc[18:].sum()"
   ]
  },
  {
   "cell_type": "code",
   "execution_count": null,
   "metadata": {},
   "outputs": [],
   "source": [
    "weeks_2020.loc[18:].sum()"
   ]
  },
  {
   "cell_type": "code",
   "execution_count": null,
   "metadata": {},
   "outputs": [],
   "source": [
    "weeks_2021.loc[18:].sum()"
   ]
  },
  {
   "cell_type": "code",
   "execution_count": null,
   "metadata": {},
   "outputs": [],
   "source": [
    "#The 6 weeks immediately preceding the letter"
   ]
  },
  {
   "cell_type": "code",
   "execution_count": null,
   "metadata": {},
   "outputs": [],
   "source": [
    "weeks_2021.loc[12:17].sum()"
   ]
  },
  {
   "cell_type": "code",
   "execution_count": null,
   "metadata": {},
   "outputs": [],
   "source": [
    "#Graphing the trends. The letter was sent at the end of Week 17 and annoucned on the 1st day of Week 18 in 2021."
   ]
  },
  {
   "cell_type": "code",
   "execution_count": null,
   "metadata": {},
   "outputs": [],
   "source": [
    "fig, ax = plt.subplots(figsize = (20, 10), dpi=300)\n",
    "\n",
    "weeks_2019['nct_id'].plot(ax=ax, xticks=weeks_2019.index, label='2019', lw=3)\n",
    "weeks_2020['nct_id'].plot(ax=ax, label='2020', lw=3)\n",
    "weeks_2021['nct_id'].plot(ax=ax, label='2021', lw=3, grid=True)\n",
    "\n",
    "plt.axvline(x=17, color='red', label='2021 Letter Sent', lw=5)\n",
    "\n",
    "plt.legend(loc='upper left', fontsize=15)\n",
    "plt.tick_params(axis='both', which='major', labelsize=15)\n",
    "\n",
    "ax.set_xlabel('Week of Year', fontsize=20, labelpad=10)\n",
    "ax.set_ylabel('New Trials Reported', fontsize=20, labelpad=10)\n",
    "\n",
    "plt.title(\"FDAAA Reporting in First 23 Weeks of Year: 2019-2021\", pad = 20, fontsize = 25)\n",
    "\n",
    "plt.show()"
   ]
  },
  {
   "cell_type": "code",
   "execution_count": null,
   "metadata": {},
   "outputs": [],
   "source": [
    "#Now what if we only look at overdue trials that reported?"
   ]
  },
  {
   "cell_type": "code",
   "execution_count": null,
   "metadata": {},
   "outputs": [],
   "source": [
    "df['reported_late'] = np.where(((df.due_date < df.first_results_submission_any) & df.first_results_submission_any.notnull()), 1, 0)\n",
    "late_df = df[df['reported_late'] == 1][['nct_id', 'first_results_submission_any']].reset_index(drop=True)"
   ]
  },
  {
   "cell_type": "code",
   "execution_count": null,
   "metadata": {},
   "outputs": [],
   "source": [
    "weeks_2021_late = get_weeks(late_df, '2020-12-29', '2021-06-08')\n",
    "weeks_2020_late = get_weeks(late_df, '2019-12-31', '2020-06-09')\n",
    "weeks_2019_late = get_weeks(late_df, '2019-01-01', '2019-06-11')"
   ]
  },
  {
   "cell_type": "code",
   "execution_count": null,
   "metadata": {},
   "outputs": [],
   "source": [
    "fig, ax = plt.subplots(figsize = (20, 10), dpi=300)\n",
    "\n",
    "weeks_2019_late['nct_id'].plot(ax=ax, xticks=weeks_2019.index, label='2019', lw=3)\n",
    "weeks_2020_late['nct_id'].plot(ax=ax, label='2020', lw=3)\n",
    "weeks_2021_late['nct_id'].plot(ax=ax, label='2021', lw=3)\n",
    "\n",
    "plt.axvline(x=17, color='red', label='2021 Letter Sent', lw=5)\n",
    "\n",
    "plt.legend(loc='upper left', fontsize=15)\n",
    "plt.tick_params(axis='both', which='major', labelsize=15)\n",
    "\n",
    "ax.set_xlabel('Week of Year', fontsize=20, labelpad=10)\n",
    "ax.set_ylabel('New Trials Reported', fontsize=20, labelpad=10)\n",
    "\n",
    "plt.title(\"Late FDAAA Reporting in First 23 Weeks of Year: 2019-2021\", pad = 20, fontsize = 25)\n",
    "\n",
    "plt.show()"
   ]
  },
  {
   "cell_type": "markdown",
   "metadata": {},
   "source": [
    "# Recreating Figure from Lancet paper"
   ]
  },
  {
   "cell_type": "code",
   "execution_count": null,
   "metadata": {},
   "outputs": [],
   "source": [
    "#This cell pulls out counts for each month based on the processed data.\n",
    "\n",
    "#Lists for statistics of interest\n",
    "reported_by_month_all = []\n",
    "reported_by_month_on_time = []\n",
    "due_by_month  = []\n",
    "reporting_prcts = []\n",
    "overdue_by_month = []\n",
    "\n",
    "#QA data manually scraped for due trials before this data was included in the ClinicalTrials.gov XML in May 2018.\n",
    "qa = pd.read_csv(parent+'/data/qa.csv')\n",
    "qa.submitted_to_regulator = pd.to_datetime(qa['submitted_to_regulator'])\n",
    "grouped = qa.groupby(['registry_id']).min()\n",
    "\n",
    "#Dates of scrapes used, on or as close to mid-month available. Edit this as appropriate for dates of interest\n",
    "scrape_dates = [date(2018,3,15), date(2018,4,16), date(2018,5,15), date(2018,6,15), date(2018,7,16), date(2018,8,13), \n",
    "                date(2018,9,14), date(2018,10,15), date(2018,11,15), date(2018,12,14), date(2019,1,15),\n",
    "                date(2019,2,15), date(2019,3,15), date(2019,4,15), date(2019,5,15), date(2019,6,13), date(2019,7,15),\n",
    "                date(2019,8,15), date(2019,9,16), date(2019,10,15), date(2019,11,15), date(2019,12,15), \n",
    "                date(2020,1,15), date(2020,2,14), date(2020,3,16), date(2020,4,15), date(2020,5,15), \n",
    "                date(2020,6,15), date(2020,7,15), date(2020,8,14), date(2020,9,15), date(2020,10,15), \n",
    "                date(2020,11,16), date(2020,12,15), date(2021,1,15), date(2021,2,15), date(2021,3,15), \n",
    "                date(2021,4,15), date(2021,5,14), date(2021,6,15)]\n",
    "\n",
    "#Location of previously processed CSVs.\n",
    "path2 = parent +'/data' #processed files should be here or edit as appropriate to point to their local location\n",
    "files = os.listdir(path2)\n",
    "files.sort()\n",
    "\n",
    "#removing hidden file when analysis is performed on a Mac\n",
    "if '.DS_Store' in files:\n",
    "    files.remove('.DS_Store')\n",
    "files.remove('.gitkeep')\n",
    "files.remove('fdaaa_regulatory_snapshot.csv')\n",
    "files.remove('qa.csv')\n",
    "\n",
    "#Importing custom function to get summary data\n",
    "from lib.summary_data import get_summary_data, ci_calc\n",
    "\n",
    "#This loops through all the processed files, and produces the relevant statistics of interest for each date. \n",
    "#Data from before the availability of QA details in the XML are handled using 'qa' data we manually maintained through scrapes\n",
    "#Data is processed via the `get_summary_data` function imported above\n",
    "for file, scrape_date in zip(tqdm(files), scrape_dates):\n",
    "    df = pd.read_csv(os.path.join(path2, file), low_memory=False)\n",
    "    df['due_date'] = pd.to_datetime(df['due_date'])\n",
    "    df['results_first_submitted_date'] = pd.to_datetime(df['results_first_submitted_date'])\n",
    "    df['first_results_submission_any'] = pd.to_datetime(df['first_results_submission_any'])\n",
    "    numerator, denominator, number_on_time = get_summary_data(df,scrape_date,grouped)\n",
    "    reported_by_month_all.append(numerator)\n",
    "    due_by_month.append(denominator)\n",
    "    overdue_by_month.append(denominator - numerator)\n",
    "    reporting_prcts.append(round((numerator/denominator)*100,2))\n",
    "    reported_by_month_on_time.append(number_on_time)\n",
    "    \n",
    "#calculates percents for reporting on-time.\n",
    "prct_on_time = []\n",
    "for a, b, in zip(reported_by_month_on_time, due_by_month):\n",
    "    prct_on_time.append(round((a/b)*100,2))\n",
    "\n",
    "line_errors = ci_calc(reported_by_month_all, due_by_month)\n",
    "\n",
    "line_errors_on_time = ci_calc(reported_by_month_on_time, due_by_month)"
   ]
  },
  {
   "cell_type": "code",
   "execution_count": null,
   "metadata": {
    "lines_to_next_cell": 0
   },
   "outputs": [],
   "source": [
    "#creates graph of reporting, and reporting in compliance percentage as a line over a bar graph of overdue trials by month\n",
    "\n",
    "fig, ax = plt.subplots(figsize=(25,15), dpi = 300)\n",
    "index = np.arange(len(scrape_dates))\n",
    "l1 = plt.errorbar(index,reporting_prcts, yerr=line_errors, elinewidth = 3, capsize=5, c = '#A11E22', lw=5)\n",
    "l2 = plt.errorbar(index,prct_on_time, yerr=line_errors_on_time, elinewidth = 3, capsize=5, c = '#E8A631', lw=5)\n",
    "plt.tick_params(axis='both', which='major', labelsize=15)\n",
    "plt.ylabel('% Reported', fontsize=25, labelpad=10)\n",
    "plt.xticks(rotation=90)\n",
    "#plt.title(\"Reporting Percentage and Overdue Trials By Month\", pad = 20, fontsize = 30)\n",
    "l3 = Line2D([0], [0], color='#2D8E87', ls='-', lw=10)\n",
    "plt.legend((l1, l2, l3), ('% Reported (95% CI)', '% Compliant (95% CI)', 'Overdue Trial Count'), loc=2, fontsize=18)\n",
    "ax.set_ylim([0,85])\n",
    "\n",
    "ax2 = plt.twinx()\n",
    "ax2.set_axisbelow(True)\n",
    "ax.yaxis.grid(linestyle='--', linewidth=.5, zorder=ax.get_zorder()-10)\n",
    "ax2.bar(index, overdue_by_month, capsize=5, tick_label = scrape_dates, color='#2D8E87', width=.5)\n",
    "ax2.tick_params(axis='both', which='major', labelsize=15)\n",
    "plt.ylabel('# of Overdue Trials', fontsize=25, labelpad=10)\n",
    "\n",
    "ax.set_zorder(ax2.get_zorder()+1)\n",
    "ax.patch.set_visible(False)"
   ]
  },
  {
   "cell_type": "code",
   "execution_count": null,
   "metadata": {
    "lines_to_next_cell": 2
   },
   "outputs": [],
   "source": []
  }
 ],
 "metadata": {
  "jupytext": {
   "cell_metadata_filter": "all",
   "notebook_metadata_filter": "all,-language_info",
   "text_representation": {
    "extension": ".py",
    "format_name": "light",
    "format_version": "1.5",
    "jupytext_version": "1.3.3"
   }
  },
  "kernelspec": {
   "display_name": "Python 3",
   "language": "python",
   "name": "python3"
  },
  "language_info": {
   "codemirror_mode": {
    "name": "ipython",
    "version": 3
   },
   "file_extension": ".py",
   "mimetype": "text/x-python",
   "name": "python",
   "nbconvert_exporter": "python",
   "pygments_lexer": "ipython3",
   "version": "3.8.1"
  }
 },
 "nbformat": 4,
 "nbformat_minor": 4
}
