{
 "cells": [
  {
   "cell_type": "code",
   "execution_count": null,
   "metadata": {},
   "outputs": [],
   "source": [
    "import pandas as pd\n",
    "import numpy as np\n",
    "from datetime import date\n",
    "from tqdm.auto import tqdm\n",
    "from zipfile import ZipFile\n",
    "\n",
    "import os\n",
    "import re\n",
    "import matplotlib.pyplot as plt\n",
    "\n",
    "import sys\n",
    "from pathlib import Path\n",
    "cwd = os.getcwd()\n",
    "parent = str(Path(cwd).parents[0])\n",
    "sys.path.append(parent)"
   ]
  },
  {
   "cell_type": "code",
   "execution_count": null,
   "metadata": {},
   "outputs": [],
   "source": [
    "old_fda = parent + '/data/fdaaa_regulatory_snapshot.csv'\n",
    "\n",
    "#This takes a full clinicaltrials.gov dataset from our archives\n",
    "#Due to size, this is not in our GitHub repo, but stored on Dropbox \n",
    "#Example path to data is below\n",
    "path = 'https://www.dropbox.com/s/864ov24rt8jaq5k/clinicaltrials_raw_clincialtrials_json_2021-04-15.csv.zip?dl=1'\n",
    "\n",
    "from lib.data_functions import fda_reg, get_data\n",
    "\n",
    "fda_reg_dict = fda_reg(old_fda)\n",
    "lines = get_data(path, '2021-04-15')\n",
    "\n",
    "#headers is just the list of header names to save space here\n",
    "from lib.final_df import make_row, make_dataframe, headers\n",
    "\n",
    "#Just pACTs/ACTs\n",
    "df = make_dataframe(tqdm(lines), fda_reg_dict, headers, act_filter=True, scrape_date = date(2021,4,15))\n",
    "\n",
    "#We won't need this anymore so deleting to save some memory\n",
    "del lines\n",
    "\n",
    "#Uncomment this to save as a csv as appropriate\n",
    "df.to_csv(parent + '/data/applicable_trials_2021-04-15.csv', index=False)"
   ]
  },
  {
   "cell_type": "code",
   "execution_count": null,
   "metadata": {},
   "outputs": [],
   "source": []
  },
  {
   "cell_type": "code",
   "execution_count": null,
   "metadata": {},
   "outputs": [],
   "source": []
  },
  {
   "cell_type": "code",
   "execution_count": null,
   "metadata": {},
   "outputs": [],
   "source": []
  },
  {
   "cell_type": "code",
   "execution_count": null,
   "metadata": {},
   "outputs": [],
   "source": []
  }
 ],
 "metadata": {
  "jupytext": {
   "cell_metadata_filter": "all",
   "notebook_metadata_filter": "all,-language_info",
   "text_representation": {
    "extension": ".py",
    "format_name": "light",
    "format_version": "1.5",
    "jupytext_version": "1.3.3"
   }
  },
  "kernelspec": {
   "display_name": "Python 3",
   "language": "python",
   "name": "python3"
  },
  "language_info": {
   "codemirror_mode": {
    "name": "ipython",
    "version": 3
   },
   "file_extension": ".py",
   "mimetype": "text/x-python",
   "name": "python",
   "nbconvert_exporter": "python",
   "pygments_lexer": "ipython3",
   "version": "3.8.1"
  }
 },
 "nbformat": 4,
 "nbformat_minor": 4
}
